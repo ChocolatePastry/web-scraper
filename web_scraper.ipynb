{
 "cells": [
  {
   "cell_type": "code",
   "execution_count": 1,
   "id": "6eb515b9-affb-40bd-86e0-2594a1319c8e",
   "metadata": {},
   "outputs": [],
   "source": [
    "def scraper(base_url, user_selector):\n",
    "    page = 1\n",
    "    scraped_data = []\n",
    "    while True:\n",
    "        \n",
    "        res = requests.get(base_url.format(page))\n",
    "        \n",
    "        if res.status_code != 200:\n",
    "            print(f\"Page {page} returned status {res.status_code} Stopping...\")\n",
    "            break\n",
    "\n",
    "        soup = bs4.BeautifulSoup(res.content, \"lxml\")\n",
    "\n",
    "        elements = soup.select(user_selector)\n",
    "\n",
    "        if not  elements:\n",
    "            print(f\"No elements found on page {page}. Stopping...\")\n",
    "            break\n",
    "\n",
    "        for el in elements:\n",
    "            scraped_data.append(el.getText(strip = True))\n",
    "        page += 1\n",
    "\n",
    "    return scraped_data"
   ]
  },
  {
   "cell_type": "code",
   "execution_count": 2,
   "id": "83fb5ecc-2c14-48d6-8059-e67919cd3e2b",
   "metadata": {},
   "outputs": [],
   "source": [
    "import csv\n",
    "def save_content(scraped_data):\n",
    "    file_name = input(\"Enter the Name of the output file (e.g. 'output.txt' or 'output.csv')\")\n",
    "\n",
    "    location = input(\"Enter the location for the output file, press enter for default (default = current location)\")\n",
    "\n",
    "    file = location+file_name\n",
    "    \n",
    "    if ( file_name.endswith(\".txt\") ):  \n",
    "        \n",
    "        with open(file, \"w\", encoding=\"utf-8\") as f:\n",
    "            for data in scraped_data:\n",
    "                f.write(data + \"\\n\")\n",
    "            print(\"File Written Successfully!\")\n",
    "\n",
    "    elif ( file_name.endswith(\".csv\") ):\n",
    "        with open(file, \"w\", newline= \"\", encoding=\"utf-8\") as f:\n",
    "            writer = csv.writer(f)\n",
    "            writer.writerow([\"Scraped Content\"])\n",
    "            for data in scraped_data:\n",
    "                writer.writerow(data)\n",
    "\n",
    "    else:\n",
    "        print(\"Invalid File Format. Please use either '.txt' or '.csv'\")"
   ]
  },
  {
   "cell_type": "code",
   "execution_count": 3,
   "id": "3087f6eb-b88e-4940-9ad5-51d748c7ea29",
   "metadata": {},
   "outputs": [
    {
     "name": "stdout",
     "output_type": "stream",
     "text": [
      "Enter the base URL (use '{}' as a placeholder for the page number)\n",
      "Example: https://quotes.toscrape.com/page/{}/\n"
     ]
    },
    {
     "name": "stdin",
     "output_type": "stream",
     "text": [
      "Base URL:  https://quotes.toscrape.com/page/{}/\n",
      "Enter the HTML Selector (eg. #id, .class, div etc..):  .text\n"
     ]
    },
    {
     "name": "stdout",
     "output_type": "stream",
     "text": [
      "No elements found on page 11. Stopping...\n"
     ]
    },
    {
     "name": "stdin",
     "output_type": "stream",
     "text": [
      "Enter the Name of the output file (e.g. 'output.txt' or 'output.csv') quotes.csv\n",
      "Enter the location for the output file, press enter for default (default = current location) \n"
     ]
    }
   ],
   "source": [
    "import re\n",
    "import requests\n",
    "import bs4\n",
    "\n",
    "\n",
    "print(\"Enter the base URL (use '{}' as a placeholder for the page number)\")\n",
    "\n",
    "print(\"Example: https://quotes.toscrape.com/page/{}/\")\n",
    "\n",
    "base_url = input(\"Base URL: \")\n",
    "\n",
    "while not re.search(r'\\{\\}', base_url):\n",
    "    \n",
    "    print(\"\\n\")\n",
    "    print(\"Error: URL must include '{}' as a placeholder for the page number.\")\n",
    "    print(\"\\n\")\n",
    "    base_url = input(\"Base URL: \")\n",
    "\n",
    "user_selector = input(\"Enter the HTML Selector (eg. #id, .class, div etc..): \")\n",
    "scraped_data = scraper(base_url, user_selector)\n",
    "save_content(scraped_data)"
   ]
  },
  {
   "cell_type": "code",
   "execution_count": null,
   "id": "4428160a-3f32-44c7-bce0-e19ef2171c77",
   "metadata": {},
   "outputs": [],
   "source": []
  }
 ],
 "metadata": {
  "kernelspec": {
   "display_name": "Python 3 (ipykernel)",
   "language": "python",
   "name": "python3"
  },
  "language_info": {
   "codemirror_mode": {
    "name": "ipython",
    "version": 3
   },
   "file_extension": ".py",
   "mimetype": "text/x-python",
   "name": "python",
   "nbconvert_exporter": "python",
   "pygments_lexer": "ipython3",
   "version": "3.12.7"
  }
 },
 "nbformat": 4,
 "nbformat_minor": 5
}
